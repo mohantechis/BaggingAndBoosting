{
  "nbformat": 4,
  "nbformat_minor": 0,
  "metadata": {
    "colab": {
      "name": "BaggingAndBoostingProject.ipynb",
      "provenance": []
    },
    "kernelspec": {
      "name": "python3",
      "display_name": "Python 3"
    },
    "language_info": {
      "name": "python"
    }
  },
  "cells": [
    {
      "cell_type": "markdown",
      "metadata": {
        "id": "5RC5kSjpoXMs"
      },
      "source": [
        "Loading The Data"
      ]
    },
    {
      "cell_type": "code",
      "metadata": {
        "id": "H8-EBfdOnVSl"
      },
      "source": [
        "import numpy as np\n",
        "import pandas as pd\n",
        "import seaborn as sns\n",
        "from matplotlib import pyplot as plt\n",
        "df=pd.read_csv(\"/content/drive/MyDrive/Dataset/talking_data.csv\")"
      ],
      "execution_count": 2,
      "outputs": []
    },
    {
      "cell_type": "markdown",
      "metadata": {
        "id": "eYUcokamoZ_0"
      },
      "source": [
        "Exploring The Data"
      ]
    },
    {
      "cell_type": "code",
      "metadata": {
        "colab": {
          "base_uri": "https://localhost:8080/",
          "height": 205
        },
        "id": "7x0NzceHoKXq",
        "outputId": "7257a3f4-8a12-41f7-de74-3787dbe62ffe"
      },
      "source": [
        "#checking Head of Data\n",
        "df.head()"
      ],
      "execution_count": 3,
      "outputs": [
        {
          "output_type": "execute_result",
          "data": {
            "text/html": [
              "<div>\n",
              "<style scoped>\n",
              "    .dataframe tbody tr th:only-of-type {\n",
              "        vertical-align: middle;\n",
              "    }\n",
              "\n",
              "    .dataframe tbody tr th {\n",
              "        vertical-align: top;\n",
              "    }\n",
              "\n",
              "    .dataframe thead th {\n",
              "        text-align: right;\n",
              "    }\n",
              "</style>\n",
              "<table border=\"1\" class=\"dataframe\">\n",
              "  <thead>\n",
              "    <tr style=\"text-align: right;\">\n",
              "      <th></th>\n",
              "      <th>ip</th>\n",
              "      <th>app</th>\n",
              "      <th>device</th>\n",
              "      <th>os</th>\n",
              "      <th>channel</th>\n",
              "      <th>click_time</th>\n",
              "      <th>attributed_time</th>\n",
              "      <th>is_attributed</th>\n",
              "    </tr>\n",
              "  </thead>\n",
              "  <tbody>\n",
              "    <tr>\n",
              "      <th>0</th>\n",
              "      <td>87540</td>\n",
              "      <td>12</td>\n",
              "      <td>1</td>\n",
              "      <td>13</td>\n",
              "      <td>497</td>\n",
              "      <td>2017-11-07 09:30:38</td>\n",
              "      <td>NaN</td>\n",
              "      <td>0</td>\n",
              "    </tr>\n",
              "    <tr>\n",
              "      <th>1</th>\n",
              "      <td>105560</td>\n",
              "      <td>25</td>\n",
              "      <td>1</td>\n",
              "      <td>17</td>\n",
              "      <td>259</td>\n",
              "      <td>2017-11-07 13:40:27</td>\n",
              "      <td>NaN</td>\n",
              "      <td>0</td>\n",
              "    </tr>\n",
              "    <tr>\n",
              "      <th>2</th>\n",
              "      <td>101424</td>\n",
              "      <td>12</td>\n",
              "      <td>1</td>\n",
              "      <td>19</td>\n",
              "      <td>212</td>\n",
              "      <td>2017-11-07 18:05:24</td>\n",
              "      <td>NaN</td>\n",
              "      <td>0</td>\n",
              "    </tr>\n",
              "    <tr>\n",
              "      <th>3</th>\n",
              "      <td>94584</td>\n",
              "      <td>13</td>\n",
              "      <td>1</td>\n",
              "      <td>13</td>\n",
              "      <td>477</td>\n",
              "      <td>2017-11-07 04:58:08</td>\n",
              "      <td>NaN</td>\n",
              "      <td>0</td>\n",
              "    </tr>\n",
              "    <tr>\n",
              "      <th>4</th>\n",
              "      <td>68413</td>\n",
              "      <td>12</td>\n",
              "      <td>1</td>\n",
              "      <td>1</td>\n",
              "      <td>178</td>\n",
              "      <td>2017-11-09 09:00:09</td>\n",
              "      <td>NaN</td>\n",
              "      <td>0</td>\n",
              "    </tr>\n",
              "  </tbody>\n",
              "</table>\n",
              "</div>"
            ],
            "text/plain": [
              "       ip  app  device  ...           click_time  attributed_time is_attributed\n",
              "0   87540   12       1  ...  2017-11-07 09:30:38              NaN             0\n",
              "1  105560   25       1  ...  2017-11-07 13:40:27              NaN             0\n",
              "2  101424   12       1  ...  2017-11-07 18:05:24              NaN             0\n",
              "3   94584   13       1  ...  2017-11-07 04:58:08              NaN             0\n",
              "4   68413   12       1  ...  2017-11-09 09:00:09              NaN             0\n",
              "\n",
              "[5 rows x 8 columns]"
            ]
          },
          "metadata": {},
          "execution_count": 3
        }
      ]
    },
    {
      "cell_type": "code",
      "metadata": {
        "colab": {
          "base_uri": "https://localhost:8080/"
        },
        "id": "BKGv94Maodo0",
        "outputId": "005a4fb5-3038-4792-cacc-ead08b7acbb8"
      },
      "source": [
        "#checking Rows and Columns of Data\n",
        "print(\"This TalkingData Has {} Rows and {} Columns\".format(df.shape[0],df.shape[1]))"
      ],
      "execution_count": 4,
      "outputs": [
        {
          "output_type": "stream",
          "name": "stdout",
          "text": [
            "This TalkingData Has 100000 Rows and 8 Columns\n"
          ]
        }
      ]
    },
    {
      "cell_type": "code",
      "metadata": {
        "colab": {
          "base_uri": "https://localhost:8080/"
        },
        "id": "7ExpNVZcr0Qz",
        "outputId": "6378d642-fcbc-4392-b1b8-717e8cb4f766"
      },
      "source": [
        "#checking Datatypes of Features\n",
        "df.dtypes"
      ],
      "execution_count": 5,
      "outputs": [
        {
          "output_type": "execute_result",
          "data": {
            "text/plain": [
              "ip                  int64\n",
              "app                 int64\n",
              "device              int64\n",
              "os                  int64\n",
              "channel             int64\n",
              "click_time         object\n",
              "attributed_time    object\n",
              "is_attributed       int64\n",
              "dtype: object"
            ]
          },
          "metadata": {},
          "execution_count": 5
        }
      ]
    },
    {
      "cell_type": "code",
      "metadata": {
        "colab": {
          "base_uri": "https://localhost:8080/",
          "height": 236
        },
        "id": "b1Ift2pPr-UG",
        "outputId": "9045d803-9fd6-44ae-8dcd-fbd9b4c973e4"
      },
      "source": [
        "df.describe().T"
      ],
      "execution_count": 6,
      "outputs": [
        {
          "output_type": "execute_result",
          "data": {
            "text/html": [
              "<div>\n",
              "<style scoped>\n",
              "    .dataframe tbody tr th:only-of-type {\n",
              "        vertical-align: middle;\n",
              "    }\n",
              "\n",
              "    .dataframe tbody tr th {\n",
              "        vertical-align: top;\n",
              "    }\n",
              "\n",
              "    .dataframe thead th {\n",
              "        text-align: right;\n",
              "    }\n",
              "</style>\n",
              "<table border=\"1\" class=\"dataframe\">\n",
              "  <thead>\n",
              "    <tr style=\"text-align: right;\">\n",
              "      <th></th>\n",
              "      <th>count</th>\n",
              "      <th>mean</th>\n",
              "      <th>std</th>\n",
              "      <th>min</th>\n",
              "      <th>25%</th>\n",
              "      <th>50%</th>\n",
              "      <th>75%</th>\n",
              "      <th>max</th>\n",
              "    </tr>\n",
              "  </thead>\n",
              "  <tbody>\n",
              "    <tr>\n",
              "      <th>ip</th>\n",
              "      <td>100000.0</td>\n",
              "      <td>91255.87967</td>\n",
              "      <td>69835.553661</td>\n",
              "      <td>9.0</td>\n",
              "      <td>40552.0</td>\n",
              "      <td>79827.0</td>\n",
              "      <td>118252.0</td>\n",
              "      <td>364757.0</td>\n",
              "    </tr>\n",
              "    <tr>\n",
              "      <th>app</th>\n",
              "      <td>100000.0</td>\n",
              "      <td>12.04788</td>\n",
              "      <td>14.941500</td>\n",
              "      <td>1.0</td>\n",
              "      <td>3.0</td>\n",
              "      <td>12.0</td>\n",
              "      <td>15.0</td>\n",
              "      <td>551.0</td>\n",
              "    </tr>\n",
              "    <tr>\n",
              "      <th>device</th>\n",
              "      <td>100000.0</td>\n",
              "      <td>21.77125</td>\n",
              "      <td>259.667767</td>\n",
              "      <td>0.0</td>\n",
              "      <td>1.0</td>\n",
              "      <td>1.0</td>\n",
              "      <td>1.0</td>\n",
              "      <td>3867.0</td>\n",
              "    </tr>\n",
              "    <tr>\n",
              "      <th>os</th>\n",
              "      <td>100000.0</td>\n",
              "      <td>22.81828</td>\n",
              "      <td>55.943136</td>\n",
              "      <td>0.0</td>\n",
              "      <td>13.0</td>\n",
              "      <td>18.0</td>\n",
              "      <td>19.0</td>\n",
              "      <td>866.0</td>\n",
              "    </tr>\n",
              "    <tr>\n",
              "      <th>channel</th>\n",
              "      <td>100000.0</td>\n",
              "      <td>268.83246</td>\n",
              "      <td>129.724248</td>\n",
              "      <td>3.0</td>\n",
              "      <td>145.0</td>\n",
              "      <td>258.0</td>\n",
              "      <td>379.0</td>\n",
              "      <td>498.0</td>\n",
              "    </tr>\n",
              "    <tr>\n",
              "      <th>is_attributed</th>\n",
              "      <td>100000.0</td>\n",
              "      <td>0.00227</td>\n",
              "      <td>0.047591</td>\n",
              "      <td>0.0</td>\n",
              "      <td>0.0</td>\n",
              "      <td>0.0</td>\n",
              "      <td>0.0</td>\n",
              "      <td>1.0</td>\n",
              "    </tr>\n",
              "  </tbody>\n",
              "</table>\n",
              "</div>"
            ],
            "text/plain": [
              "                  count         mean           std  ...      50%       75%       max\n",
              "ip             100000.0  91255.87967  69835.553661  ...  79827.0  118252.0  364757.0\n",
              "app            100000.0     12.04788     14.941500  ...     12.0      15.0     551.0\n",
              "device         100000.0     21.77125    259.667767  ...      1.0       1.0    3867.0\n",
              "os             100000.0     22.81828     55.943136  ...     18.0      19.0     866.0\n",
              "channel        100000.0    268.83246    129.724248  ...    258.0     379.0     498.0\n",
              "is_attributed  100000.0      0.00227      0.047591  ...      0.0       0.0       1.0\n",
              "\n",
              "[6 rows x 8 columns]"
            ]
          },
          "metadata": {},
          "execution_count": 6
        }
      ]
    },
    {
      "cell_type": "markdown",
      "metadata": {
        "id": "cmESgY7CsEF4"
      },
      "source": [
        "Checking For Missing Value"
      ]
    },
    {
      "cell_type": "code",
      "metadata": {
        "colab": {
          "base_uri": "https://localhost:8080/"
        },
        "id": "BxAOpFLppAZS",
        "outputId": "3763cf99-221b-4c8b-f2b7-6362f9b8eeaf"
      },
      "source": [
        "miss_val=df.isna().sum()\n",
        "miss_val"
      ],
      "execution_count": 7,
      "outputs": [
        {
          "output_type": "execute_result",
          "data": {
            "text/plain": [
              "ip                     0\n",
              "app                    0\n",
              "device                 0\n",
              "os                     0\n",
              "channel                0\n",
              "click_time             0\n",
              "attributed_time    99773\n",
              "is_attributed          0\n",
              "dtype: int64"
            ]
          },
          "metadata": {},
          "execution_count": 7
        }
      ]
    },
    {
      "cell_type": "code",
      "metadata": {
        "colab": {
          "base_uri": "https://localhost:8080/"
        },
        "id": "_-G1rOBbvM0Y",
        "outputId": "25147794-4beb-4cda-8444-ead677ccf579"
      },
      "source": [
        "df.info()"
      ],
      "execution_count": 8,
      "outputs": [
        {
          "output_type": "stream",
          "name": "stdout",
          "text": [
            "<class 'pandas.core.frame.DataFrame'>\n",
            "RangeIndex: 100000 entries, 0 to 99999\n",
            "Data columns (total 8 columns):\n",
            " #   Column           Non-Null Count   Dtype \n",
            "---  ------           --------------   ----- \n",
            " 0   ip               100000 non-null  int64 \n",
            " 1   app              100000 non-null  int64 \n",
            " 2   device           100000 non-null  int64 \n",
            " 3   os               100000 non-null  int64 \n",
            " 4   channel          100000 non-null  int64 \n",
            " 5   click_time       100000 non-null  object\n",
            " 6   attributed_time  227 non-null     object\n",
            " 7   is_attributed    100000 non-null  int64 \n",
            "dtypes: int64(6), object(2)\n",
            "memory usage: 6.1+ MB\n"
          ]
        }
      ]
    },
    {
      "cell_type": "code",
      "metadata": {
        "colab": {
          "base_uri": "https://localhost:8080/"
        },
        "id": "8m5rCmK0vR72",
        "outputId": "6011b262-56dc-43ba-cabe-83870d5e18f5"
      },
      "source": [
        "cols=['ip', 'app', 'device', 'os', 'channel', 'click_time', 'attributed_time','is_attributed']\n",
        "for col in cols:\n",
        "  unique=len(df[col].unique())\n",
        "  print('Columns',\"       \",\"Unique Values\")\n",
        "  print(col,\"             \",unique)"
      ],
      "execution_count": 9,
      "outputs": [
        {
          "output_type": "stream",
          "name": "stdout",
          "text": [
            "Columns         Unique Values\n",
            "ip               34857\n",
            "Columns         Unique Values\n",
            "app               161\n",
            "Columns         Unique Values\n",
            "device               100\n",
            "Columns         Unique Values\n",
            "os               130\n",
            "Columns         Unique Values\n",
            "channel               161\n",
            "Columns         Unique Values\n",
            "click_time               80350\n",
            "Columns         Unique Values\n",
            "attributed_time               228\n",
            "Columns         Unique Values\n",
            "is_attributed               2\n"
          ]
        }
      ]
    },
    {
      "cell_type": "code",
      "metadata": {
        "colab": {
          "base_uri": "https://localhost:8080/"
        },
        "id": "0R-GHcGC_ZDX",
        "outputId": "77d3abf6-cc61-48cd-9f63-525de34e40ac"
      },
      "source": [
        "df['app']"
      ],
      "execution_count": 10,
      "outputs": [
        {
          "output_type": "execute_result",
          "data": {
            "text/plain": [
              "0        12\n",
              "1        25\n",
              "2        12\n",
              "3        13\n",
              "4        12\n",
              "         ..\n",
              "99995    11\n",
              "99996     9\n",
              "99997     3\n",
              "99998    15\n",
              "99999    14\n",
              "Name: app, Length: 100000, dtype: int64"
            ]
          },
          "metadata": {},
          "execution_count": 10
        }
      ]
    },
    {
      "cell_type": "code",
      "metadata": {
        "colab": {
          "base_uri": "https://localhost:8080/"
        },
        "id": "i6kbsUWkymyL",
        "outputId": "d6eac440-ac9b-40b5-9865-65e7ff54bece"
      },
      "source": [
        "app_id=df['app'].value_counts()\n",
        "print(app_id)\n",
        "total_sum=app_id.sum()\n",
        "print(\"Total Click on Apps\",total_sum)\n",
        "\n",
        "length=len(app_id)\n",
        "print(\"Total App ID: \",length)\n",
        "uaid=df[\"app\"].unique()\n",
        "print(\"Total Unique Id of Apps\",uaid)"
      ],
      "execution_count": 11,
      "outputs": [
        {
          "output_type": "stream",
          "name": "stdout",
          "text": [
            "3      18279\n",
            "12     13198\n",
            "2      11737\n",
            "9       8992\n",
            "15      8595\n",
            "       ...  \n",
            "407        1\n",
            "145        1\n",
            "271        1\n",
            "398        1\n",
            "92         1\n",
            "Name: app, Length: 161, dtype: int64\n",
            "Total Click on Apps 100000\n",
            "Total App ID:  161\n",
            "Total Unique Id of Apps [ 12  25  13   3   1   9   2   6  20  14  64   7  15  18  11   8  23  21\n",
            "  56  28  36  22  26  17  27  10  60  58  19  32  24   4  53 125 204   5\n",
            " 202  70  47  29  55 103  35  83 208 146 161  46  62  65 110  42 150 266\n",
            " 151 148  72 310  93  94  71  43  39 170  37  68  54 107 398 160  30 183\n",
            " 315  45 121  38  82 134  33 233 100  44 109  59  74  61 104  66  67 273\n",
            " 192  50 118 372  48 232 165  91 123  88 538  49  16 105 536 216 425 117\n",
            " 551  99  86 101 394  78  95 181  76  34 124 548 108  85 145  79  97  75\n",
            "  52 215  84  96  81 139 267  80 137 119 474 158 293 122 112 149 363 271\n",
            "  31 171  87 168 176 347 163 190 486 133 302 268 407 116  92 115 261]\n"
          ]
        }
      ]
    },
    {
      "cell_type": "code",
      "metadata": {
        "colab": {
          "base_uri": "https://localhost:8080/"
        },
        "id": "PlWij6pzHIp-",
        "outputId": "a62f118b-e822-406a-e36b-04532831b2b2"
      },
      "source": [
        "#20% of Total Clicks\n",
        "limit=(total_sum)*0.02\n",
        "x=app_id.values\n",
        "greater=[]\n",
        "less=[]\n",
        "#print(x)\n",
        "for i in range(161):\n",
        "  #print(x[i])\n",
        "  if x[i]>limit:\n",
        "    y=uaid[i]\n",
        "    greater.append(y)\n",
        "  else:\n",
        "    y=uaid[i]\n",
        "    less.append(y) \n",
        "\n",
        "\n",
        "print()\n",
        "print(\"frequently used apps id: \",greater)\n",
        "print(\"App Id Less Frequently Used:\",less)   "
      ],
      "execution_count": 12,
      "outputs": [
        {
          "output_type": "stream",
          "name": "stdout",
          "text": [
            "\n",
            "frequently used apps id:  [12, 25, 13, 3, 1, 9, 2, 6, 20, 14]\n",
            "App Id Less Frequently Used: [64, 7, 15, 18, 11, 8, 23, 21, 56, 28, 36, 22, 26, 17, 27, 10, 60, 58, 19, 32, 24, 4, 53, 125, 204, 5, 202, 70, 47, 29, 55, 103, 35, 83, 208, 146, 161, 46, 62, 65, 110, 42, 150, 266, 151, 148, 72, 310, 93, 94, 71, 43, 39, 170, 37, 68, 54, 107, 398, 160, 30, 183, 315, 45, 121, 38, 82, 134, 33, 233, 100, 44, 109, 59, 74, 61, 104, 66, 67, 273, 192, 50, 118, 372, 48, 232, 165, 91, 123, 88, 538, 49, 16, 105, 536, 216, 425, 117, 551, 99, 86, 101, 394, 78, 95, 181, 76, 34, 124, 548, 108, 85, 145, 79, 97, 75, 52, 215, 84, 96, 81, 139, 267, 80, 137, 119, 474, 158, 293, 122, 112, 149, 363, 271, 31, 171, 87, 168, 176, 347, 163, 190, 486, 133, 302, 268, 407, 116, 92, 115, 261]\n"
          ]
        }
      ]
    },
    {
      "cell_type": "code",
      "metadata": {
        "colab": {
          "base_uri": "https://localhost:8080/",
          "height": 325
        },
        "id": "-JmPqPhnsS98",
        "outputId": "04e96d74-967b-4fb1-f4a8-e5dc20f4c214"
      },
      "source": [
        "download_rate=df['is_attributed'].value_counts()\n",
        "ax=sns.barplot(['Click Without Download',\"Click With Download\"],download_rate)\n",
        "for bar in ax.patches:\n",
        "  ax.annotate(format(bar.get_height(), '.2f'),\n",
        "                   (bar.get_x() + bar.get_width() / 2,\n",
        "                    bar.get_height()), ha='center', va='center',\n",
        "                   size=15, xytext=(0, 8),\n",
        "                   textcoords='offset points')\n",
        "plt.show()\n",
        "\n"
      ],
      "execution_count": 13,
      "outputs": [
        {
          "output_type": "stream",
          "name": "stderr",
          "text": [
            "/usr/local/lib/python3.7/dist-packages/seaborn/_decorators.py:43: FutureWarning: Pass the following variables as keyword args: x, y. From version 0.12, the only valid positional argument will be `data`, and passing other arguments without an explicit keyword will result in an error or misinterpretation.\n",
            "  FutureWarning\n"
          ]
        },
        {
          "output_type": "display_data",
          "data": {
            "image/png": "[encoded data removed]",
            "text/plain": [
              "<Figure size 432x288 with 1 Axes>"
            ]
          },
          "metadata": {
            "needs_background": "light"
          }
        }
      ]
    },
    {
      "cell_type": "markdown",
      "metadata": {
        "id": "yWdQWHfTNc8o"
      },
      "source": [
        "4. By using Pandas derive new features such as - 'day_of_week' , 'day_of_year' , 'month' , and 'hour' as                  float/int datatypes using the 'click_time' column . Add the newly derived columns in original dataset."
      ]
    },
    {
      "cell_type": "code",
      "metadata": {
        "id": "yjzCYNlJCwto",
        "colab": {
          "base_uri": "https://localhost:8080/",
          "height": 874
        },
        "outputId": "0f905284-1da5-4b29-f256-2c917687adb0"
      },
      "source": [
        "from datetime import datetime\n",
        "df.click_time=pd.to_datetime(df.click_time)\n",
        "df.info()\n",
        "df['month']=pd.DatetimeIndex(df['click_time']).month\n",
        "df['day_of_Year']=pd.DatetimeIndex(df['click_time']).dayofyear\n",
        "df['day_of_week']=pd.DatetimeIndex(df['click_time']).dayofweek\n",
        "df['Hour']=pd.DatetimeIndex(df['click_time']).hour\n",
        "df"
      ],
      "execution_count": 14,
      "outputs": [
        {
          "output_type": "stream",
          "name": "stdout",
          "text": [
            "<class 'pandas.core.frame.DataFrame'>\n",
            "RangeIndex: 100000 entries, 0 to 99999\n",
            "Data columns (total 8 columns):\n",
            " #   Column           Non-Null Count   Dtype         \n",
            "---  ------           --------------   -----         \n",
            " 0   ip               100000 non-null  int64         \n",
            " 1   app              100000 non-null  int64         \n",
            " 2   device           100000 non-null  int64         \n",
            " 3   os               100000 non-null  int64         \n",
            " 4   channel          100000 non-null  int64         \n",
            " 5   click_time       100000 non-null  datetime64[ns]\n",
            " 6   attributed_time  227 non-null     object        \n",
            " 7   is_attributed    100000 non-null  int64         \n",
            "dtypes: datetime64[ns](1), int64(6), object(1)\n",
            "memory usage: 6.1+ MB\n"
          ]
        },
        {
          "output_type": "execute_result",
          "data": {
            "text/html": [
              "<div>\n",
              "<style scoped>\n",
              "    .dataframe tbody tr th:only-of-type {\n",
              "        vertical-align: middle;\n",
              "    }\n",
              "\n",
              "    .dataframe tbody tr th {\n",
              "        vertical-align: top;\n",
              "    }\n",
              "\n",
              "    .dataframe thead th {\n",
              "        text-align: right;\n",
              "    }\n",
              "</style>\n",
              "<table border=\"1\" class=\"dataframe\">\n",
              "  <thead>\n",
              "    <tr style=\"text-align: right;\">\n",
              "      <th></th>\n",
              "      <th>ip</th>\n",
              "      <th>app</th>\n",
              "      <th>device</th>\n",
              "      <th>os</th>\n",
              "      <th>channel</th>\n",
              "      <th>click_time</th>\n",
              "      <th>attributed_time</th>\n",
              "      <th>is_attributed</th>\n",
              "      <th>month</th>\n",
              "      <th>day_of_Year</th>\n",
              "      <th>day_of_week</th>\n",
              "      <th>Hour</th>\n",
              "    </tr>\n",
              "  </thead>\n",
              "  <tbody>\n",
              "    <tr>\n",
              "      <th>0</th>\n",
              "      <td>87540</td>\n",
              "      <td>12</td>\n",
              "      <td>1</td>\n",
              "      <td>13</td>\n",
              "      <td>497</td>\n",
              "      <td>2017-11-07 09:30:38</td>\n",
              "      <td>NaN</td>\n",
              "      <td>0</td>\n",
              "      <td>11</td>\n",
              "      <td>311</td>\n",
              "      <td>1</td>\n",
              "      <td>9</td>\n",
              "    </tr>\n",
              "    <tr>\n",
              "      <th>1</th>\n",
              "      <td>105560</td>\n",
              "      <td>25</td>\n",
              "      <td>1</td>\n",
              "      <td>17</td>\n",
              "      <td>259</td>\n",
              "      <td>2017-11-07 13:40:27</td>\n",
              "      <td>NaN</td>\n",
              "      <td>0</td>\n",
              "      <td>11</td>\n",
              "      <td>311</td>\n",
              "      <td>1</td>\n",
              "      <td>13</td>\n",
              "    </tr>\n",
              "    <tr>\n",
              "      <th>2</th>\n",
              "      <td>101424</td>\n",
              "      <td>12</td>\n",
              "      <td>1</td>\n",
              "      <td>19</td>\n",
              "      <td>212</td>\n",
              "      <td>2017-11-07 18:05:24</td>\n",
              "      <td>NaN</td>\n",
              "      <td>0</td>\n",
              "      <td>11</td>\n",
              "      <td>311</td>\n",
              "      <td>1</td>\n",
              "      <td>18</td>\n",
              "    </tr>\n",
              "    <tr>\n",
              "      <th>3</th>\n",
              "      <td>94584</td>\n",
              "      <td>13</td>\n",
              "      <td>1</td>\n",
              "      <td>13</td>\n",
              "      <td>477</td>\n",
              "      <td>2017-11-07 04:58:08</td>\n",
              "      <td>NaN</td>\n",
              "      <td>0</td>\n",
              "      <td>11</td>\n",
              "      <td>311</td>\n",
              "      <td>1</td>\n",
              "      <td>4</td>\n",
              "    </tr>\n",
              "    <tr>\n",
              "      <th>4</th>\n",
              "      <td>68413</td>\n",
              "      <td>12</td>\n",
              "      <td>1</td>\n",
              "      <td>1</td>\n",
              "      <td>178</td>\n",
              "      <td>2017-11-09 09:00:09</td>\n",
              "      <td>NaN</td>\n",
              "      <td>0</td>\n",
              "      <td>11</td>\n",
              "      <td>313</td>\n",
              "      <td>3</td>\n",
              "      <td>9</td>\n",
              "    </tr>\n",
              "    <tr>\n",
              "      <th>...</th>\n",
              "      <td>...</td>\n",
              "      <td>...</td>\n",
              "      <td>...</td>\n",
              "      <td>...</td>\n",
              "      <td>...</td>\n",
              "      <td>...</td>\n",
              "      <td>...</td>\n",
              "      <td>...</td>\n",
              "      <td>...</td>\n",
              "      <td>...</td>\n",
              "      <td>...</td>\n",
              "      <td>...</td>\n",
              "    </tr>\n",
              "    <tr>\n",
              "      <th>99995</th>\n",
              "      <td>124883</td>\n",
              "      <td>11</td>\n",
              "      <td>1</td>\n",
              "      <td>19</td>\n",
              "      <td>122</td>\n",
              "      <td>2017-11-09 13:25:41</td>\n",
              "      <td>NaN</td>\n",
              "      <td>0</td>\n",
              "      <td>11</td>\n",
              "      <td>313</td>\n",
              "      <td>3</td>\n",
              "      <td>13</td>\n",
              "    </tr>\n",
              "    <tr>\n",
              "      <th>99996</th>\n",
              "      <td>85150</td>\n",
              "      <td>9</td>\n",
              "      <td>1</td>\n",
              "      <td>13</td>\n",
              "      <td>244</td>\n",
              "      <td>2017-11-07 11:25:43</td>\n",
              "      <td>NaN</td>\n",
              "      <td>0</td>\n",
              "      <td>11</td>\n",
              "      <td>311</td>\n",
              "      <td>1</td>\n",
              "      <td>11</td>\n",
              "    </tr>\n",
              "    <tr>\n",
              "      <th>99997</th>\n",
              "      <td>18839</td>\n",
              "      <td>3</td>\n",
              "      <td>1</td>\n",
              "      <td>13</td>\n",
              "      <td>19</td>\n",
              "      <td>2017-11-08 11:38:42</td>\n",
              "      <td>NaN</td>\n",
              "      <td>0</td>\n",
              "      <td>11</td>\n",
              "      <td>312</td>\n",
              "      <td>2</td>\n",
              "      <td>11</td>\n",
              "    </tr>\n",
              "    <tr>\n",
              "      <th>99998</th>\n",
              "      <td>114276</td>\n",
              "      <td>15</td>\n",
              "      <td>1</td>\n",
              "      <td>12</td>\n",
              "      <td>245</td>\n",
              "      <td>2017-11-08 17:55:21</td>\n",
              "      <td>NaN</td>\n",
              "      <td>0</td>\n",
              "      <td>11</td>\n",
              "      <td>312</td>\n",
              "      <td>2</td>\n",
              "      <td>17</td>\n",
              "    </tr>\n",
              "    <tr>\n",
              "      <th>99999</th>\n",
              "      <td>119349</td>\n",
              "      <td>14</td>\n",
              "      <td>1</td>\n",
              "      <td>15</td>\n",
              "      <td>401</td>\n",
              "      <td>2017-11-07 14:32:27</td>\n",
              "      <td>NaN</td>\n",
              "      <td>0</td>\n",
              "      <td>11</td>\n",
              "      <td>311</td>\n",
              "      <td>1</td>\n",
              "      <td>14</td>\n",
              "    </tr>\n",
              "  </tbody>\n",
              "</table>\n",
              "<p>100000 rows × 12 columns</p>\n",
              "</div>"
            ],
            "text/plain": [
              "           ip  app  device  os  ...  month day_of_Year day_of_week  Hour\n",
              "0       87540   12       1  13  ...     11         311           1     9\n",
              "1      105560   25       1  17  ...     11         311           1    13\n",
              "2      101424   12       1  19  ...     11         311           1    18\n",
              "3       94584   13       1  13  ...     11         311           1     4\n",
              "4       68413   12       1   1  ...     11         313           3     9\n",
              "...       ...  ...     ...  ..  ...    ...         ...         ...   ...\n",
              "99995  124883   11       1  19  ...     11         313           3    13\n",
              "99996   85150    9       1  13  ...     11         311           1    11\n",
              "99997   18839    3       1  13  ...     11         312           2    11\n",
              "99998  114276   15       1  12  ...     11         312           2    17\n",
              "99999  119349   14       1  15  ...     11         311           1    14\n",
              "\n",
              "[100000 rows x 12 columns]"
            ]
          },
          "metadata": {},
          "execution_count": 14
        }
      ]
    },
    {
      "cell_type": "markdown",
      "metadata": {
        "id": "SOn13PzwZX8N"
      },
      "source": [
        ""
      ]
    },
    {
      "cell_type": "code",
      "metadata": {
        "colab": {
          "base_uri": "https://localhost:8080/",
          "height": 312
        },
        "id": "TOyw20wZZXsG",
        "outputId": "36f63128-12cf-4bf8-8b1f-e18e51086db5"
      },
      "source": [
        "df['attributed_time']=df['attributed_time'].fillna(0)\n",
        "df.head()"
      ],
      "execution_count": 15,
      "outputs": [
        {
          "output_type": "execute_result",
          "data": {
            "text/html": [
              "<div>\n",
              "<style scoped>\n",
              "    .dataframe tbody tr th:only-of-type {\n",
              "        vertical-align: middle;\n",
              "    }\n",
              "\n",
              "    .dataframe tbody tr th {\n",
              "        vertical-align: top;\n",
              "    }\n",
              "\n",
              "    .dataframe thead th {\n",
              "        text-align: right;\n",
              "    }\n",
              "</style>\n",
              "<table border=\"1\" class=\"dataframe\">\n",
              "  <thead>\n",
              "    <tr style=\"text-align: right;\">\n",
              "      <th></th>\n",
              "      <th>ip</th>\n",
              "      <th>app</th>\n",
              "      <th>device</th>\n",
              "      <th>os</th>\n",
              "      <th>channel</th>\n",
              "      <th>click_time</th>\n",
              "      <th>attributed_time</th>\n",
              "      <th>is_attributed</th>\n",
              "      <th>month</th>\n",
              "      <th>day_of_Year</th>\n",
              "      <th>day_of_week</th>\n",
              "      <th>Hour</th>\n",
              "    </tr>\n",
              "  </thead>\n",
              "  <tbody>\n",
              "    <tr>\n",
              "      <th>0</th>\n",
              "      <td>87540</td>\n",
              "      <td>12</td>\n",
              "      <td>1</td>\n",
              "      <td>13</td>\n",
              "      <td>497</td>\n",
              "      <td>2017-11-07 09:30:38</td>\n",
              "      <td>0</td>\n",
              "      <td>0</td>\n",
              "      <td>11</td>\n",
              "      <td>311</td>\n",
              "      <td>1</td>\n",
              "      <td>9</td>\n",
              "    </tr>\n",
              "    <tr>\n",
              "      <th>1</th>\n",
              "      <td>105560</td>\n",
              "      <td>25</td>\n",
              "      <td>1</td>\n",
              "      <td>17</td>\n",
              "      <td>259</td>\n",
              "      <td>2017-11-07 13:40:27</td>\n",
              "      <td>0</td>\n",
              "      <td>0</td>\n",
              "      <td>11</td>\n",
              "      <td>311</td>\n",
              "      <td>1</td>\n",
              "      <td>13</td>\n",
              "    </tr>\n",
              "    <tr>\n",
              "      <th>2</th>\n",
              "      <td>101424</td>\n",
              "      <td>12</td>\n",
              "      <td>1</td>\n",
              "      <td>19</td>\n",
              "      <td>212</td>\n",
              "      <td>2017-11-07 18:05:24</td>\n",
              "      <td>0</td>\n",
              "      <td>0</td>\n",
              "      <td>11</td>\n",
              "      <td>311</td>\n",
              "      <td>1</td>\n",
              "      <td>18</td>\n",
              "    </tr>\n",
              "    <tr>\n",
              "      <th>3</th>\n",
              "      <td>94584</td>\n",
              "      <td>13</td>\n",
              "      <td>1</td>\n",
              "      <td>13</td>\n",
              "      <td>477</td>\n",
              "      <td>2017-11-07 04:58:08</td>\n",
              "      <td>0</td>\n",
              "      <td>0</td>\n",
              "      <td>11</td>\n",
              "      <td>311</td>\n",
              "      <td>1</td>\n",
              "      <td>4</td>\n",
              "    </tr>\n",
              "    <tr>\n",
              "      <th>4</th>\n",
              "      <td>68413</td>\n",
              "      <td>12</td>\n",
              "      <td>1</td>\n",
              "      <td>1</td>\n",
              "      <td>178</td>\n",
              "      <td>2017-11-09 09:00:09</td>\n",
              "      <td>0</td>\n",
              "      <td>0</td>\n",
              "      <td>11</td>\n",
              "      <td>313</td>\n",
              "      <td>3</td>\n",
              "      <td>9</td>\n",
              "    </tr>\n",
              "  </tbody>\n",
              "</table>\n",
              "</div>"
            ],
            "text/plain": [
              "       ip  app  device  os  ...  month day_of_Year day_of_week  Hour\n",
              "0   87540   12       1  13  ...     11         311           1     9\n",
              "1  105560   25       1  17  ...     11         311           1    13\n",
              "2  101424   12       1  19  ...     11         311           1    18\n",
              "3   94584   13       1  13  ...     11         311           1     4\n",
              "4   68413   12       1   1  ...     11         313           3     9\n",
              "\n",
              "[5 rows x 12 columns]"
            ]
          },
          "metadata": {},
          "execution_count": 15
        }
      ]
    },
    {
      "cell_type": "markdown",
      "metadata": {
        "id": "IK_gN3Tj4U7x"
      },
      "source": [
        ""
      ]
    },
    {
      "cell_type": "code",
      "metadata": {
        "id": "CmdH4Jwm5nVe"
      },
      "source": [
        ""
      ],
      "execution_count": 15,
      "outputs": []
    },
    {
      "cell_type": "code",
      "metadata": {
        "colab": {
          "base_uri": "https://localhost:8080/",
          "height": 225
        },
        "id": "DT87IxWl-3Nk",
        "outputId": "bfe02d05-3c0d-442a-aac8-ab07791dddca"
      },
      "source": [
        "df=df.drop(['click_time','attributed_time'],axis=1)\n",
        "df.head()"
      ],
      "execution_count": 16,
      "outputs": [
        {
          "output_type": "execute_result",
          "data": {
            "text/html": [
              "<div>\n",
              "<style scoped>\n",
              "    .dataframe tbody tr th:only-of-type {\n",
              "        vertical-align: middle;\n",
              "    }\n",
              "\n",
              "    .dataframe tbody tr th {\n",
              "        vertical-align: top;\n",
              "    }\n",
              "\n",
              "    .dataframe thead th {\n",
              "        text-align: right;\n",
              "    }\n",
              "</style>\n",
              "<table border=\"1\" class=\"dataframe\">\n",
              "  <thead>\n",
              "    <tr style=\"text-align: right;\">\n",
              "      <th></th>\n",
              "      <th>ip</th>\n",
              "      <th>app</th>\n",
              "      <th>device</th>\n",
              "      <th>os</th>\n",
              "      <th>channel</th>\n",
              "      <th>is_attributed</th>\n",
              "      <th>month</th>\n",
              "      <th>day_of_Year</th>\n",
              "      <th>day_of_week</th>\n",
              "      <th>Hour</th>\n",
              "    </tr>\n",
              "  </thead>\n",
              "  <tbody>\n",
              "    <tr>\n",
              "      <th>0</th>\n",
              "      <td>87540</td>\n",
              "      <td>12</td>\n",
              "      <td>1</td>\n",
              "      <td>13</td>\n",
              "      <td>497</td>\n",
              "      <td>0</td>\n",
              "      <td>11</td>\n",
              "      <td>311</td>\n",
              "      <td>1</td>\n",
              "      <td>9</td>\n",
              "    </tr>\n",
              "    <tr>\n",
              "      <th>1</th>\n",
              "      <td>105560</td>\n",
              "      <td>25</td>\n",
              "      <td>1</td>\n",
              "      <td>17</td>\n",
              "      <td>259</td>\n",
              "      <td>0</td>\n",
              "      <td>11</td>\n",
              "      <td>311</td>\n",
              "      <td>1</td>\n",
              "      <td>13</td>\n",
              "    </tr>\n",
              "    <tr>\n",
              "      <th>2</th>\n",
              "      <td>101424</td>\n",
              "      <td>12</td>\n",
              "      <td>1</td>\n",
              "      <td>19</td>\n",
              "      <td>212</td>\n",
              "      <td>0</td>\n",
              "      <td>11</td>\n",
              "      <td>311</td>\n",
              "      <td>1</td>\n",
              "      <td>18</td>\n",
              "    </tr>\n",
              "    <tr>\n",
              "      <th>3</th>\n",
              "      <td>94584</td>\n",
              "      <td>13</td>\n",
              "      <td>1</td>\n",
              "      <td>13</td>\n",
              "      <td>477</td>\n",
              "      <td>0</td>\n",
              "      <td>11</td>\n",
              "      <td>311</td>\n",
              "      <td>1</td>\n",
              "      <td>4</td>\n",
              "    </tr>\n",
              "    <tr>\n",
              "      <th>4</th>\n",
              "      <td>68413</td>\n",
              "      <td>12</td>\n",
              "      <td>1</td>\n",
              "      <td>1</td>\n",
              "      <td>178</td>\n",
              "      <td>0</td>\n",
              "      <td>11</td>\n",
              "      <td>313</td>\n",
              "      <td>3</td>\n",
              "      <td>9</td>\n",
              "    </tr>\n",
              "  </tbody>\n",
              "</table>\n",
              "</div>"
            ],
            "text/plain": [
              "       ip  app  device  os  ...  month  day_of_Year  day_of_week  Hour\n",
              "0   87540   12       1  13  ...     11          311            1     9\n",
              "1  105560   25       1  17  ...     11          311            1    13\n",
              "2  101424   12       1  19  ...     11          311            1    18\n",
              "3   94584   13       1  13  ...     11          311            1     4\n",
              "4   68413   12       1   1  ...     11          313            3     9\n",
              "\n",
              "[5 rows x 10 columns]"
            ]
          },
          "metadata": {},
          "execution_count": 16
        }
      ]
    },
    {
      "cell_type": "code",
      "metadata": {
        "colab": {
          "base_uri": "https://localhost:8080/"
        },
        "id": "VWv7dcTR4map",
        "outputId": "146c03ce-b8b1-4f7d-901a-d610da1ac75d"
      },
      "source": [
        "X=df.drop(['is_attributed'],axis=1)\n",
        "y=df.loc[:,'is_attributed']\n",
        "\n",
        "print(\"The X has {} Rows and {} Features\".format(X.shape[0],X.shape[1]))\n",
        "print(\"The y has {} Rows \".format(y.shape[0]))"
      ],
      "execution_count": 17,
      "outputs": [
        {
          "output_type": "stream",
          "name": "stdout",
          "text": [
            "The X has 100000 Rows and 9 Features\n",
            "The y has 100000 Rows \n"
          ]
        }
      ]
    },
    {
      "cell_type": "code",
      "metadata": {
        "colab": {
          "base_uri": "https://localhost:8080/"
        },
        "id": "j9dPxOzM4Wwd",
        "outputId": "d6f115af-a491-4f0d-dd67-ac83dd926377"
      },
      "source": [
        "from sklearn.model_selection import train_test_split\n",
        "X_train,X_test,y_train,y_test=train_test_split(X,y,train_size=0.8,random_state=2)\n",
        "print(\"X_train has {} Rows and {} Columns\".format(X_train.shape[0],X_train.shape[1]))\n",
        "print(\"X_train has {} Rows\".format(y_train.shape[0]))\n",
        "print(\"X_train has {} Rows and {} Columns\".format(X_test.shape[0],X_test.shape[1]))\n",
        "print(\"X_train has {} Rows\".format(y_test.shape[0]))\n"
      ],
      "execution_count": 18,
      "outputs": [
        {
          "output_type": "stream",
          "name": "stdout",
          "text": [
            "X_train has 80000 Rows and 9 Columns\n",
            "X_train has 80000 Rows\n",
            "X_train has 20000 Rows and 9 Columns\n",
            "X_train has 20000 Rows\n"
          ]
        }
      ]
    },
    {
      "cell_type": "code",
      "metadata": {
        "id": "PWoCeGMD9xoT"
      },
      "source": [
        "from sklearn.metrics import classification_report\n",
        "from sklearn.metrics import accuracy_score\n",
        "from sklearn.metrics import mean_squared_error,mean_absolute_error,r2_score"
      ],
      "execution_count": 19,
      "outputs": []
    },
    {
      "cell_type": "code",
      "metadata": {
        "colab": {
          "base_uri": "https://localhost:8080/"
        },
        "id": "P8sEpyEX-Gwx",
        "outputId": "f8ac369d-192a-41b3-a98c-b91701f0a4af"
      },
      "source": [
        "import xgboost as xgb\n",
        "from xgboost import XGBClassifier\n",
        "from xgboost import plot_importance\n",
        "from sklearn import metrics\n",
        "\n",
        "model=XGBClassifier()\n",
        "model.fit(X_train,y_train)"
      ],
      "execution_count": 20,
      "outputs": [
        {
          "output_type": "execute_result",
          "data": {
            "text/plain": [
              "XGBClassifier(base_score=0.5, booster='gbtree', colsample_bylevel=1,\n",
              "              colsample_bynode=1, colsample_bytree=1, gamma=0,\n",
              "              learning_rate=0.1, max_delta_step=0, max_depth=3,\n",
              "              min_child_weight=1, missing=None, n_estimators=100, n_jobs=1,\n",
              "              nthread=None, objective='binary:logistic', random_state=0,\n",
              "              reg_alpha=0, reg_lambda=1, scale_pos_weight=1, seed=None,\n",
              "              silent=None, subsample=1, verbosity=1)"
            ]
          },
          "metadata": {},
          "execution_count": 20
        }
      ]
    },
    {
      "cell_type": "code",
      "metadata": {
        "colab": {
          "base_uri": "https://localhost:8080/"
        },
        "id": "iBXvz53s_0mK",
        "outputId": "ba317d33-3d89-4308-a276-64cbe6dbcd08"
      },
      "source": [
        "y_pred=model.predict_proba(X_test)\n",
        "y_pred"
      ],
      "execution_count": 21,
      "outputs": [
        {
          "output_type": "execute_result",
          "data": {
            "text/plain": [
              "array([[9.9959111e-01, 4.0890000e-04],\n",
              "       [9.9968415e-01, 3.1581876e-04],\n",
              "       [9.9956739e-01, 4.3259186e-04],\n",
              "       ...,\n",
              "       [9.9974930e-01, 2.5067982e-04],\n",
              "       [9.9910307e-01, 8.9690811e-04],\n",
              "       [9.9959111e-01, 4.0890000e-04]], dtype=float32)"
            ]
          },
          "metadata": {},
          "execution_count": 21
        }
      ]
    },
    {
      "cell_type": "code",
      "metadata": {
        "colab": {
          "base_uri": "https://localhost:8080/"
        },
        "id": "I_aL4HRl__Ce",
        "outputId": "a24b9b22-0158-4cc2-ab14-519c375950bb"
      },
      "source": [
        "roc=metrics.roc_auc_score(y_test,y_pred[:,1])\n",
        "print(\"AUC: %.2f%%\" % (roc * 100.0))"
      ],
      "execution_count": 22,
      "outputs": [
        {
          "output_type": "stream",
          "name": "stdout",
          "text": [
            "AUC: 98.58%\n"
          ]
        }
      ]
    },
    {
      "cell_type": "code",
      "metadata": {
        "id": "Mp0Yt7bCPQKj"
      },
      "source": [
        "from sklearn.model_selection import KFold\n",
        "from sklearn.model_selection import GridSearchCV\n"
      ],
      "execution_count": 23,
      "outputs": []
    },
    {
      "cell_type": "markdown",
      "metadata": {
        "id": "NPjKdOg1Pbbs"
      },
      "source": [
        "Hyperparameter Tuning "
      ]
    },
    {
      "cell_type": "code",
      "metadata": {
        "id": "oER7RpUjPaIp"
      },
      "source": [
        "#Creating a Kfold object\n",
        "folds=3\n",
        "\n",
        "#specify range of hyperparameters\n",
        "param_grid= {\"learning_rate\": [0.2,0.6],\n",
        "             'subsample':[0.3,0.6,0.9]}\n",
        "#model\n",
        "xgb_model=XGBClassifier(max_depth=2,n_estimators=200)\n",
        "\n",
        "#set up grid search\n",
        "model_cv=GridSearchCV(estimator=xgb_model,\n",
        "                      param_grid=param_grid,\n",
        "                      scoring='roc_auc',\n",
        "                      cv=folds,\n",
        "                      verbose=1,\n",
        "                      return_train_score=True)\n"
      ],
      "execution_count": 24,
      "outputs": []
    },
    {
      "cell_type": "code",
      "metadata": {
        "colab": {
          "base_uri": "https://localhost:8080/"
        },
        "id": "udKcZQ3YQdPo",
        "outputId": "64677409-868c-4d1a-e5c1-f95b8ffa1467"
      },
      "source": [
        "model_cv.fit(X_train,y_train)"
      ],
      "execution_count": 25,
      "outputs": [
        {
          "output_type": "stream",
          "name": "stdout",
          "text": [
            "Fitting 3 folds for each of 6 candidates, totalling 18 fits\n"
          ]
        },
        {
          "output_type": "stream",
          "name": "stderr",
          "text": [
            "[Parallel(n_jobs=1)]: Using backend SequentialBackend with 1 concurrent workers.\n",
            "[Parallel(n_jobs=1)]: Done  18 out of  18 | elapsed:  1.3min finished\n"
          ]
        },
        {
          "output_type": "execute_result",
          "data": {
            "text/plain": [
              "GridSearchCV(cv=3, error_score=nan,\n",
              "             estimator=XGBClassifier(base_score=0.5, booster='gbtree',\n",
              "                                     colsample_bylevel=1, colsample_bynode=1,\n",
              "                                     colsample_bytree=1, gamma=0,\n",
              "                                     learning_rate=0.1, max_delta_step=0,\n",
              "                                     max_depth=2, min_child_weight=1,\n",
              "                                     missing=None, n_estimators=200, n_jobs=1,\n",
              "                                     nthread=None, objective='binary:logistic',\n",
              "                                     random_state=0, reg_alpha=0, reg_lambda=1,\n",
              "                                     scale_pos_weight=1, seed=None, silent=None,\n",
              "                                     subsample=1, verbosity=1),\n",
              "             iid='deprecated', n_jobs=None,\n",
              "             param_grid={'learning_rate': [0.2, 0.6],\n",
              "                         'subsample': [0.3, 0.6, 0.9]},\n",
              "             pre_dispatch='2*n_jobs', refit=True, return_train_score=True,\n",
              "             scoring='roc_auc', verbose=1)"
            ]
          },
          "metadata": {},
          "execution_count": 25
        }
      ]
    },
    {
      "cell_type": "code",
      "metadata": {
        "colab": {
          "base_uri": "https://localhost:8080/",
          "height": 567
        },
        "id": "UNsaNs_kQmAd",
        "outputId": "91341b40-bbc9-42a8-8b8d-cbd5fa195340"
      },
      "source": [
        "cv_results=pd.DataFrame(model_cv.cv_results_)\n",
        "cv_results"
      ],
      "execution_count": 26,
      "outputs": [
        {
          "output_type": "execute_result",
          "data": {
            "text/html": [
              "<div>\n",
              "<style scoped>\n",
              "    .dataframe tbody tr th:only-of-type {\n",
              "        vertical-align: middle;\n",
              "    }\n",
              "\n",
              "    .dataframe tbody tr th {\n",
              "        vertical-align: top;\n",
              "    }\n",
              "\n",
              "    .dataframe thead th {\n",
              "        text-align: right;\n",
              "    }\n",
              "</style>\n",
              "<table border=\"1\" class=\"dataframe\">\n",
              "  <thead>\n",
              "    <tr style=\"text-align: right;\">\n",
              "      <th></th>\n",
              "      <th>mean_fit_time</th>\n",
              "      <th>std_fit_time</th>\n",
              "      <th>mean_score_time</th>\n",
              "      <th>std_score_time</th>\n",
              "      <th>param_learning_rate</th>\n",
              "      <th>param_subsample</th>\n",
              "      <th>params</th>\n",
              "      <th>split0_test_score</th>\n",
              "      <th>split1_test_score</th>\n",
              "      <th>split2_test_score</th>\n",
              "      <th>mean_test_score</th>\n",
              "      <th>std_test_score</th>\n",
              "      <th>rank_test_score</th>\n",
              "      <th>split0_train_score</th>\n",
              "      <th>split1_train_score</th>\n",
              "      <th>split2_train_score</th>\n",
              "      <th>mean_train_score</th>\n",
              "      <th>std_train_score</th>\n",
              "    </tr>\n",
              "  </thead>\n",
              "  <tbody>\n",
              "    <tr>\n",
              "      <th>0</th>\n",
              "      <td>4.024832</td>\n",
              "      <td>0.028288</td>\n",
              "      <td>0.140109</td>\n",
              "      <td>0.001905</td>\n",
              "      <td>0.2</td>\n",
              "      <td>0.3</td>\n",
              "      <td>{'learning_rate': 0.2, 'subsample': 0.3}</td>\n",
              "      <td>0.945377</td>\n",
              "      <td>0.952509</td>\n",
              "      <td>0.941346</td>\n",
              "      <td>0.946411</td>\n",
              "      <td>0.004616</td>\n",
              "      <td>5</td>\n",
              "      <td>0.990861</td>\n",
              "      <td>0.985355</td>\n",
              "      <td>0.984889</td>\n",
              "      <td>0.987035</td>\n",
              "      <td>0.002712</td>\n",
              "    </tr>\n",
              "    <tr>\n",
              "      <th>1</th>\n",
              "      <td>4.394483</td>\n",
              "      <td>0.005190</td>\n",
              "      <td>0.134639</td>\n",
              "      <td>0.002440</td>\n",
              "      <td>0.2</td>\n",
              "      <td>0.6</td>\n",
              "      <td>{'learning_rate': 0.2, 'subsample': 0.6}</td>\n",
              "      <td>0.951977</td>\n",
              "      <td>0.956603</td>\n",
              "      <td>0.936193</td>\n",
              "      <td>0.948257</td>\n",
              "      <td>0.008738</td>\n",
              "      <td>4</td>\n",
              "      <td>0.990747</td>\n",
              "      <td>0.987841</td>\n",
              "      <td>0.987660</td>\n",
              "      <td>0.988750</td>\n",
              "      <td>0.001414</td>\n",
              "    </tr>\n",
              "    <tr>\n",
              "      <th>2</th>\n",
              "      <td>3.799831</td>\n",
              "      <td>0.004446</td>\n",
              "      <td>0.128864</td>\n",
              "      <td>0.002775</td>\n",
              "      <td>0.2</td>\n",
              "      <td>0.9</td>\n",
              "      <td>{'learning_rate': 0.2, 'subsample': 0.9}</td>\n",
              "      <td>0.956663</td>\n",
              "      <td>0.956038</td>\n",
              "      <td>0.942028</td>\n",
              "      <td>0.951576</td>\n",
              "      <td>0.006756</td>\n",
              "      <td>1</td>\n",
              "      <td>0.988866</td>\n",
              "      <td>0.988868</td>\n",
              "      <td>0.986709</td>\n",
              "      <td>0.988148</td>\n",
              "      <td>0.001018</td>\n",
              "    </tr>\n",
              "    <tr>\n",
              "      <th>3</th>\n",
              "      <td>3.978752</td>\n",
              "      <td>0.011879</td>\n",
              "      <td>0.138198</td>\n",
              "      <td>0.001817</td>\n",
              "      <td>0.6</td>\n",
              "      <td>0.3</td>\n",
              "      <td>{'learning_rate': 0.6, 'subsample': 0.3}</td>\n",
              "      <td>0.940081</td>\n",
              "      <td>0.953658</td>\n",
              "      <td>0.907360</td>\n",
              "      <td>0.933700</td>\n",
              "      <td>0.019432</td>\n",
              "      <td>6</td>\n",
              "      <td>0.997564</td>\n",
              "      <td>0.992629</td>\n",
              "      <td>0.994287</td>\n",
              "      <td>0.994827</td>\n",
              "      <td>0.002051</td>\n",
              "    </tr>\n",
              "    <tr>\n",
              "      <th>4</th>\n",
              "      <td>4.438320</td>\n",
              "      <td>0.003118</td>\n",
              "      <td>0.138965</td>\n",
              "      <td>0.002066</td>\n",
              "      <td>0.6</td>\n",
              "      <td>0.6</td>\n",
              "      <td>{'learning_rate': 0.6, 'subsample': 0.6}</td>\n",
              "      <td>0.963073</td>\n",
              "      <td>0.947338</td>\n",
              "      <td>0.935051</td>\n",
              "      <td>0.948488</td>\n",
              "      <td>0.011469</td>\n",
              "      <td>3</td>\n",
              "      <td>0.998015</td>\n",
              "      <td>0.997465</td>\n",
              "      <td>0.998799</td>\n",
              "      <td>0.998093</td>\n",
              "      <td>0.000547</td>\n",
              "    </tr>\n",
              "    <tr>\n",
              "      <th>5</th>\n",
              "      <td>3.806243</td>\n",
              "      <td>0.012046</td>\n",
              "      <td>0.138099</td>\n",
              "      <td>0.005089</td>\n",
              "      <td>0.6</td>\n",
              "      <td>0.9</td>\n",
              "      <td>{'learning_rate': 0.6, 'subsample': 0.9}</td>\n",
              "      <td>0.950713</td>\n",
              "      <td>0.953654</td>\n",
              "      <td>0.946487</td>\n",
              "      <td>0.950285</td>\n",
              "      <td>0.002942</td>\n",
              "      <td>2</td>\n",
              "      <td>0.997699</td>\n",
              "      <td>0.998321</td>\n",
              "      <td>0.998749</td>\n",
              "      <td>0.998256</td>\n",
              "      <td>0.000431</td>\n",
              "    </tr>\n",
              "  </tbody>\n",
              "</table>\n",
              "</div>"
            ],
            "text/plain": [
              "   mean_fit_time  std_fit_time  ...  mean_train_score  std_train_score\n",
              "0       4.024832      0.028288  ...          0.987035         0.002712\n",
              "1       4.394483      0.005190  ...          0.988750         0.001414\n",
              "2       3.799831      0.004446  ...          0.988148         0.001018\n",
              "3       3.978752      0.011879  ...          0.994827         0.002051\n",
              "4       4.438320      0.003118  ...          0.998093         0.000547\n",
              "5       3.806243      0.012046  ...          0.998256         0.000431\n",
              "\n",
              "[6 rows x 18 columns]"
            ]
          },
          "metadata": {},
          "execution_count": 26
        }
      ]
    },
    {
      "cell_type": "code",
      "metadata": {
        "id": "npJUaMOLQ8cY",
        "colab": {
          "base_uri": "https://localhost:8080/",
          "height": 305
        },
        "outputId": "054c5ee9-fc35-425a-803e-066ce6af266a"
      },
      "source": [
        "#plotting\n",
        "plt.figure(figsize=(16,6))\n",
        "param_grid={'learning_rate':[0.2,0.6],\n",
        "            'subsample':[0.3,0.6,0.9]}\n",
        "\n",
        "for n, subsample in enumerate(param_grid['subsample']):\n",
        "\n",
        "  plt.subplot(1,len(param_grid['subsample']),n+1)\n",
        "  df=cv_results[cv_results['param_subsample']==subsample]\n",
        "\n",
        "  plt.plot(df['param_learning_rate'],df['mean_test_score'])\n",
        "  plt.plot(df['param_learning_rate'],df[\"mean_train_score\"])\n",
        "  plt.xlabel('learning_rate')\n",
        "  plt.ylabel(\"AUC\")\n",
        "  plt.title(\"subsample={0}\".format(subsample))\n",
        "  plt.ylim([0.60,1])\n",
        "  plt.legend(['test score','train score'],loc='upper left')\n",
        "  plt.xscale('log')"
      ],
      "execution_count": 27,
      "outputs": [
        {
          "output_type": "display_data",
          "data": {
            "image/png": "[encoded data removed]",
            "text/plain": [
              "<Figure size 1152x432 with 3 Axes>"
            ]
          },
          "metadata": {
            "needs_background": "light"
          }
        }
      ]
    },
    {
      "cell_type": "code",
      "metadata": {
        "colab": {
          "base_uri": "https://localhost:8080/"
        },
        "id": "sVXi4HqjnqoD",
        "outputId": "0eb57d8b-a742-4ba9-c09c-539f96da1d6e"
      },
      "source": [
        "params={'learning_rate':0.2,\n",
        "        'max_depth':2,\n",
        "        'n_estimators':200,\n",
        "        'subsample':0.6,\n",
        "        'objective':'binary:logistic'}\n",
        "\n",
        "model=XGBClassifier(params=params)\n",
        "model.fit(X_train,y_train)"
      ],
      "execution_count": 28,
      "outputs": [
        {
          "output_type": "execute_result",
          "data": {
            "text/plain": [
              "XGBClassifier(base_score=0.5, booster='gbtree', colsample_bylevel=1,\n",
              "              colsample_bynode=1, colsample_bytree=1, gamma=0,\n",
              "              learning_rate=0.1, max_delta_step=0, max_depth=3,\n",
              "              min_child_weight=1, missing=None, n_estimators=100, n_jobs=1,\n",
              "              nthread=None, objective='binary:logistic',\n",
              "              params={'learning_rate': 0.2, 'max_depth': 2, 'n_estimators': 200,\n",
              "                      'objective': 'binary:logistic', 'subsample': 0.6},\n",
              "              random_state=0, reg_alpha=0, reg_lambda=1, scale_pos_weight=1,\n",
              "              seed=None, silent=None, subsample=1, verbosity=1)"
            ]
          },
          "metadata": {},
          "execution_count": 28
        }
      ]
    },
    {
      "cell_type": "code",
      "metadata": {
        "colab": {
          "base_uri": "https://localhost:8080/"
        },
        "id": "a6eEIJaHoGir",
        "outputId": "925c9f53-f166-4946-9827-57e91641c6ff"
      },
      "source": [
        "y_pred=model.predict_proba(X_test)\n",
        "y_pred[:10]"
      ],
      "execution_count": 29,
      "outputs": [
        {
          "output_type": "execute_result",
          "data": {
            "text/plain": [
              "array([[9.9959111e-01, 4.0890000e-04],\n",
              "       [9.9968415e-01, 3.1581876e-04],\n",
              "       [9.9956739e-01, 4.3259186e-04],\n",
              "       [9.9965423e-01, 3.4577594e-04],\n",
              "       [9.9939561e-01, 6.0440460e-04],\n",
              "       [9.9952662e-01, 4.7337802e-04],\n",
              "       [9.9966019e-01, 3.3979691e-04],\n",
              "       [9.9984896e-01, 1.5103171e-04],\n",
              "       [9.9985605e-01, 1.4397143e-04],\n",
              "       [9.9966538e-01, 3.3461687e-04]], dtype=float32)"
            ]
          },
          "metadata": {},
          "execution_count": 29
        }
      ]
    },
    {
      "cell_type": "code",
      "metadata": {
        "colab": {
          "base_uri": "https://localhost:8080/"
        },
        "id": "aU7rpaseoN38",
        "outputId": "a1cd8e8b-21c1-4cf9-b8b5-0ebcb253432e"
      },
      "source": [
        "#roc Auc\n",
        "auc=metrics.roc_auc_score(y_test,y_pred[:,1])\n",
        "auc"
      ],
      "execution_count": 30,
      "outputs": [
        {
          "output_type": "execute_result",
          "data": {
            "text/plain": [
              "0.9858052841114731"
            ]
          },
          "metadata": {},
          "execution_count": 30
        }
      ]
    },
    {
      "cell_type": "code",
      "metadata": {
        "colab": {
          "base_uri": "https://localhost:8080/"
        },
        "id": "eeWYctKsoXLE",
        "outputId": "4cb2a1ce-a466-4248-fae1-9f1f56c8ed25"
      },
      "source": [
        "#feature importance\n",
        "importance= dict(zip(X_train.columns,model.feature_importances_))\n",
        "importance"
      ],
      "execution_count": 31,
      "outputs": [
        {
          "output_type": "execute_result",
          "data": {
            "text/plain": [
              "{'Hour': 0.04800737,\n",
              " 'app': 0.25292116,\n",
              " 'channel': 0.25704932,\n",
              " 'day_of_Year': 0.04753536,\n",
              " 'day_of_week': 0.0,\n",
              " 'device': 0.18149194,\n",
              " 'ip': 0.123277694,\n",
              " 'month': 0.0,\n",
              " 'os': 0.08971721}"
            ]
          },
          "metadata": {},
          "execution_count": 31
        }
      ]
    },
    {
      "cell_type": "code",
      "metadata": {
        "id": "yZcTjNVPoma4",
        "colab": {
          "base_uri": "https://localhost:8080/",
          "height": 265
        },
        "outputId": "99c40c9e-1664-475d-c403-3d85193ba17e"
      },
      "source": [
        "#plot\n",
        "plt.bar(range(len(model.feature_importances_)), model.feature_importances_)\n",
        "plt.show()"
      ],
      "execution_count": 32,
      "outputs": [
        {
          "output_type": "display_data",
          "data": {
            "image/png": "[encoded data removed]",
            "text/plain": [
              "<Figure size 432x288 with 1 Axes>"
            ]
          },
          "metadata": {
            "needs_background": "light"
          }
        }
      ]
    }
  ]
}